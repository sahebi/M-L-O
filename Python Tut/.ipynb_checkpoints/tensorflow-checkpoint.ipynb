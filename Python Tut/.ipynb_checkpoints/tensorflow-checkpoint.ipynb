{
 "cells": [
  {
   "cell_type": "markdown",
   "metadata": {},
   "source": [
    "# TensorFlow\n",
    "\n",
    "## Ubuntu Installation\n",
    "\n",
    "$ sudo apt-get install python python-dev\n",
    "\n",
    "$ sudo pip(3) install virtualenv\n",
    "\n",
    "$ virtualenv ~/tensorflow\n",
    "\n",
    "    $detached\n",
    "    \n",
    "$ source ~/tensorflow/bin/activate\n",
    "\n",
    "(tensorflow)$ pip install --upgrade tensorflow"
   ]
  },
  {
   "cell_type": "code",
   "execution_count": null,
   "metadata": {},
   "outputs": [],
   "source": []
  }
 ],
 "metadata": {
  "kernelspec": {
   "display_name": "Python 2",
   "language": "python",
   "name": "python2"
  },
  "language_info": {
   "codemirror_mode": {
    "name": "ipython",
    "version": 2
   },
   "file_extension": ".py",
   "mimetype": "text/x-python",
   "name": "python",
   "nbconvert_exporter": "python",
   "pygments_lexer": "ipython2",
   "version": "2.7.12"
  }
 },
 "nbformat": 4,
 "nbformat_minor": 2
}
