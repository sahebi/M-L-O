{
 "cells": [
  {
   "cell_type": "markdown",
   "metadata": {},
   "source": [
    "###### Working Library\n",
    "    Pandas      MatlabDL\n",
    "    Numpy\n",
    "    Scipy\n",
    "\n",
    "    TensorFlow + Keras\n",
    "    \n",
    "###### Deep Learning in Python\n",
    "When I Searching about DeepLearning found diffrent library for work on deep learning\n",
    "\n",
    "I Start by \"Theno\" --> http://deeplearning.net/software/theano/index.html\n",
    "but why \"Theno\"? Theno developing Stoped .... :-\" but have a good tuts on deeplearning.net/tutorial/\n",
    "\n",
    "\"Keras\" is another library for ML, Keras is a high-level neural network API, written in Python, and capable of runnning on top of TensorFlow, CNTK or Theno.\n",
    "https://keras.io/\n",
    "and tutorial for Keras\n",
    "https://www.datacamp.com/community/tutorials/deep-learning-python\n",
    "\n",
    "##### CNTK\n",
    "    https://cntk.ai/pythondocs/\n",
    "    https://notebooks.azure.com/cntk/libraries/tutorials\n",
    "    "
   ]
  },
  {
   "cell_type": "code",
   "execution_count": 3,
   "metadata": {},
   "outputs": [
    {
     "name": "stdout",
     "output_type": "stream",
     "text": [
      "('Salam', 5)\n"
     ]
    }
   ],
   "source": []
  },
  {
   "cell_type": "code",
   "execution_count": null,
   "metadata": {},
   "outputs": [],
   "source": []
  }
 ],
 "metadata": {
  "kernelspec": {
   "display_name": "Python 2",
   "language": "python",
   "name": "python2"
  },
  "language_info": {
   "codemirror_mode": {
    "name": "ipython",
    "version": 2
   },
   "file_extension": ".py",
   "mimetype": "text/x-python",
   "name": "python",
   "nbconvert_exporter": "python",
   "pygments_lexer": "ipython2",
   "version": "2.7.12"
  }
 },
 "nbformat": 4,
 "nbformat_minor": 2
}
